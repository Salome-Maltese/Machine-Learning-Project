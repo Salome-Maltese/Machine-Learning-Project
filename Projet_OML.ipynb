{
  "nbformat": 4,
  "nbformat_minor": 0,
  "metadata": {
    "colab": {
      "name": "Projet_OML.ipynb",
      "provenance": [],
      "collapsed_sections": []
    },
    "kernelspec": {
      "display_name": "Python 3",
      "name": "python3"
    }
  },
  "cells": [
    {
      "cell_type": "markdown",
      "metadata": {
        "id": "9-8QyWE0sACV"
      },
      "source": [
        ""
      ]
    },
    {
      "cell_type": "markdown",
      "metadata": {
        "id": "FSTXWn_CoLNU"
      },
      "source": [
        "MANDINE Loic - DENIS Hansi - MALTESE Salomé - TRAORE Yacouba - DJENKAL Thelio  | Dataset sur le Baseball et les performances de joueurs en 1986"
      ]
    },
    {
      "cell_type": "markdown",
      "metadata": {
        "id": "-nkwUU4vAx9k"
      },
      "source": [
        "[***Lien du fichier excel***](https://unice-my.sharepoint.com/:x:/g/personal/lionel_fillatre_unice_fr/EWqAx6mr9WZIs4vn2wmmspsBaYPBEcdOFaX2acjHy_JulQ?e=KkHwRM)"
      ]
    },
    {
      "cell_type": "markdown",
      "metadata": {
        "id": "xEAWyOr3BFsS"
      },
      "source": [
        "[***Lien vers openML dataset***](https://www.openml.org/d/525)"
      ]
    },
    {
      "cell_type": "code",
      "metadata": {
        "id": "UlAXPy6fVvV7"
      },
      "source": [
        "#import nécessaires\n",
        "import numpy as np\n",
        "import matplotlib.pyplot as plt\n",
        "import pandas as pd\n",
        "import math\n",
        "import networkx as nx\n",
        "from sklearn.cluster import KMeans"
      ],
      "execution_count": null,
      "outputs": []
    },
    {
      "cell_type": "code",
      "metadata": {
        "id": "g2ITaoJqV_S3",
        "colab": {
          "base_uri": "https://localhost:8080/",
          "height": 444
        },
        "outputId": "411de454-8ce5-47c0-b83b-72711f5fbe26"
      },
      "source": [
        "#on convertit le fichier csv en une dataframe de panda\n",
        "data = pd.read_csv(\"./baseball-hitter.csv\")\n",
        "data"
      ],
      "execution_count": null,
      "outputs": [
        {
          "output_type": "execute_result",
          "data": {
            "text/html": [
              "<div>\n",
              "<style scoped>\n",
              "    .dataframe tbody tr th:only-of-type {\n",
              "        vertical-align: middle;\n",
              "    }\n",
              "\n",
              "    .dataframe tbody tr th {\n",
              "        vertical-align: top;\n",
              "    }\n",
              "\n",
              "    .dataframe thead th {\n",
              "        text-align: right;\n",
              "    }\n",
              "</style>\n",
              "<table border=\"1\" class=\"dataframe\">\n",
              "  <thead>\n",
              "    <tr style=\"text-align: right;\">\n",
              "      <th></th>\n",
              "      <th>hitters_name</th>\n",
              "      <th>number_of_times_at_bat_in_1986</th>\n",
              "      <th>number_of_hits_in_1986</th>\n",
              "      <th>number_of_home_runs_in_1986</th>\n",
              "      <th>number_of_runs_in_1986</th>\n",
              "      <th>number_of_runs_batted_in_in_1986</th>\n",
              "      <th>number_of_walks_in_1986</th>\n",
              "      <th>number_of_years_in_the_major_leagues</th>\n",
              "      <th>number_of_times_at_bat_during_his_career</th>\n",
              "      <th>number_of_hits_during_his_career</th>\n",
              "      <th>number_of_home_runs_during_his_career</th>\n",
              "      <th>number_of_runs_during_his_career</th>\n",
              "      <th>number_of_runs_batted_in_during_his_career</th>\n",
              "      <th>number_of_walks_during_his_career</th>\n",
              "      <th>players_league_at_the_end_of_1986</th>\n",
              "      <th>players_division_at_the_end_of_1986</th>\n",
              "      <th>players_team_at_the_end_of_1986</th>\n",
              "      <th>players_position(s)_in_1986</th>\n",
              "      <th>number_of_put_outs_in_1986</th>\n",
              "      <th>number_of_assists_in_1986</th>\n",
              "      <th>number_of_errors_in_1986</th>\n",
              "      <th>1987_annual_salary_on_opening_day_in_thousands_of_dollars</th>\n",
              "      <th>players_league_at_the_beginning_of_1987</th>\n",
              "      <th>players_team_at_the_beginning_of_1987</th>\n",
              "    </tr>\n",
              "  </thead>\n",
              "  <tbody>\n",
              "    <tr>\n",
              "      <th>0</th>\n",
              "      <td>Andy_Allanson</td>\n",
              "      <td>293</td>\n",
              "      <td>66</td>\n",
              "      <td>1</td>\n",
              "      <td>30</td>\n",
              "      <td>29</td>\n",
              "      <td>14</td>\n",
              "      <td>1</td>\n",
              "      <td>293</td>\n",
              "      <td>66</td>\n",
              "      <td>1</td>\n",
              "      <td>30</td>\n",
              "      <td>29</td>\n",
              "      <td>14</td>\n",
              "      <td>A</td>\n",
              "      <td>E</td>\n",
              "      <td>Cle.</td>\n",
              "      <td>C</td>\n",
              "      <td>446</td>\n",
              "      <td>33</td>\n",
              "      <td>20</td>\n",
              "      <td>?</td>\n",
              "      <td>A</td>\n",
              "      <td>Cle.</td>\n",
              "    </tr>\n",
              "    <tr>\n",
              "      <th>1</th>\n",
              "      <td>Alan_Ashby</td>\n",
              "      <td>315</td>\n",
              "      <td>81</td>\n",
              "      <td>7</td>\n",
              "      <td>24</td>\n",
              "      <td>38</td>\n",
              "      <td>39</td>\n",
              "      <td>14</td>\n",
              "      <td>3449</td>\n",
              "      <td>835</td>\n",
              "      <td>69</td>\n",
              "      <td>321</td>\n",
              "      <td>414</td>\n",
              "      <td>375</td>\n",
              "      <td>N</td>\n",
              "      <td>W</td>\n",
              "      <td>Hou.</td>\n",
              "      <td>C</td>\n",
              "      <td>632</td>\n",
              "      <td>43</td>\n",
              "      <td>10</td>\n",
              "      <td>475</td>\n",
              "      <td>N</td>\n",
              "      <td>Hou.</td>\n",
              "    </tr>\n",
              "    <tr>\n",
              "      <th>2</th>\n",
              "      <td>Alvin_Davis</td>\n",
              "      <td>479</td>\n",
              "      <td>130</td>\n",
              "      <td>18</td>\n",
              "      <td>66</td>\n",
              "      <td>72</td>\n",
              "      <td>76</td>\n",
              "      <td>3</td>\n",
              "      <td>1624</td>\n",
              "      <td>457</td>\n",
              "      <td>63</td>\n",
              "      <td>224</td>\n",
              "      <td>266</td>\n",
              "      <td>263</td>\n",
              "      <td>A</td>\n",
              "      <td>W</td>\n",
              "      <td>Sea.</td>\n",
              "      <td>1B</td>\n",
              "      <td>880</td>\n",
              "      <td>82</td>\n",
              "      <td>14</td>\n",
              "      <td>480</td>\n",
              "      <td>A</td>\n",
              "      <td>Sea.</td>\n",
              "    </tr>\n",
              "    <tr>\n",
              "      <th>3</th>\n",
              "      <td>Andre_Dawson</td>\n",
              "      <td>496</td>\n",
              "      <td>141</td>\n",
              "      <td>20</td>\n",
              "      <td>65</td>\n",
              "      <td>78</td>\n",
              "      <td>37</td>\n",
              "      <td>11</td>\n",
              "      <td>5628</td>\n",
              "      <td>1575</td>\n",
              "      <td>225</td>\n",
              "      <td>828</td>\n",
              "      <td>838</td>\n",
              "      <td>354</td>\n",
              "      <td>N</td>\n",
              "      <td>E</td>\n",
              "      <td>Mon.</td>\n",
              "      <td>RF</td>\n",
              "      <td>200</td>\n",
              "      <td>11</td>\n",
              "      <td>3</td>\n",
              "      <td>500</td>\n",
              "      <td>N</td>\n",
              "      <td>Chi.</td>\n",
              "    </tr>\n",
              "    <tr>\n",
              "      <th>4</th>\n",
              "      <td>Andres_Galarraga</td>\n",
              "      <td>321</td>\n",
              "      <td>87</td>\n",
              "      <td>10</td>\n",
              "      <td>39</td>\n",
              "      <td>42</td>\n",
              "      <td>30</td>\n",
              "      <td>2</td>\n",
              "      <td>396</td>\n",
              "      <td>101</td>\n",
              "      <td>12</td>\n",
              "      <td>48</td>\n",
              "      <td>46</td>\n",
              "      <td>33</td>\n",
              "      <td>N</td>\n",
              "      <td>E</td>\n",
              "      <td>Mon.</td>\n",
              "      <td>1B</td>\n",
              "      <td>805</td>\n",
              "      <td>40</td>\n",
              "      <td>4</td>\n",
              "      <td>91.5</td>\n",
              "      <td>N</td>\n",
              "      <td>Mon.</td>\n",
              "    </tr>\n",
              "    <tr>\n",
              "      <th>...</th>\n",
              "      <td>...</td>\n",
              "      <td>...</td>\n",
              "      <td>...</td>\n",
              "      <td>...</td>\n",
              "      <td>...</td>\n",
              "      <td>...</td>\n",
              "      <td>...</td>\n",
              "      <td>...</td>\n",
              "      <td>...</td>\n",
              "      <td>...</td>\n",
              "      <td>...</td>\n",
              "      <td>...</td>\n",
              "      <td>...</td>\n",
              "      <td>...</td>\n",
              "      <td>...</td>\n",
              "      <td>...</td>\n",
              "      <td>...</td>\n",
              "      <td>...</td>\n",
              "      <td>...</td>\n",
              "      <td>...</td>\n",
              "      <td>...</td>\n",
              "      <td>...</td>\n",
              "      <td>...</td>\n",
              "      <td>...</td>\n",
              "    </tr>\n",
              "    <tr>\n",
              "      <th>317</th>\n",
              "      <td>Willie_McGee</td>\n",
              "      <td>497</td>\n",
              "      <td>127</td>\n",
              "      <td>7</td>\n",
              "      <td>65</td>\n",
              "      <td>48</td>\n",
              "      <td>37</td>\n",
              "      <td>5</td>\n",
              "      <td>2703</td>\n",
              "      <td>806</td>\n",
              "      <td>32</td>\n",
              "      <td>379</td>\n",
              "      <td>311</td>\n",
              "      <td>138</td>\n",
              "      <td>N</td>\n",
              "      <td>E</td>\n",
              "      <td>St.L.</td>\n",
              "      <td>CF</td>\n",
              "      <td>325</td>\n",
              "      <td>9</td>\n",
              "      <td>3</td>\n",
              "      <td>700</td>\n",
              "      <td>N</td>\n",
              "      <td>St.L.</td>\n",
              "    </tr>\n",
              "    <tr>\n",
              "      <th>318</th>\n",
              "      <td>Willie_Randolph</td>\n",
              "      <td>492</td>\n",
              "      <td>136</td>\n",
              "      <td>5</td>\n",
              "      <td>76</td>\n",
              "      <td>50</td>\n",
              "      <td>94</td>\n",
              "      <td>12</td>\n",
              "      <td>5511</td>\n",
              "      <td>1511</td>\n",
              "      <td>39</td>\n",
              "      <td>897</td>\n",
              "      <td>451</td>\n",
              "      <td>875</td>\n",
              "      <td>A</td>\n",
              "      <td>E</td>\n",
              "      <td>N.Y.</td>\n",
              "      <td>2B</td>\n",
              "      <td>313</td>\n",
              "      <td>381</td>\n",
              "      <td>20</td>\n",
              "      <td>875</td>\n",
              "      <td>A</td>\n",
              "      <td>N.Y.</td>\n",
              "    </tr>\n",
              "    <tr>\n",
              "      <th>319</th>\n",
              "      <td>Wayne_Tolleson</td>\n",
              "      <td>475</td>\n",
              "      <td>126</td>\n",
              "      <td>3</td>\n",
              "      <td>61</td>\n",
              "      <td>43</td>\n",
              "      <td>52</td>\n",
              "      <td>6</td>\n",
              "      <td>1700</td>\n",
              "      <td>433</td>\n",
              "      <td>7</td>\n",
              "      <td>217</td>\n",
              "      <td>93</td>\n",
              "      <td>146</td>\n",
              "      <td>A</td>\n",
              "      <td>W</td>\n",
              "      <td>Chi.</td>\n",
              "      <td>3B</td>\n",
              "      <td>37</td>\n",
              "      <td>113</td>\n",
              "      <td>7</td>\n",
              "      <td>385</td>\n",
              "      <td>A</td>\n",
              "      <td>N.Y.</td>\n",
              "    </tr>\n",
              "    <tr>\n",
              "      <th>320</th>\n",
              "      <td>Willie_Upshaw</td>\n",
              "      <td>573</td>\n",
              "      <td>144</td>\n",
              "      <td>9</td>\n",
              "      <td>85</td>\n",
              "      <td>60</td>\n",
              "      <td>78</td>\n",
              "      <td>8</td>\n",
              "      <td>3198</td>\n",
              "      <td>857</td>\n",
              "      <td>97</td>\n",
              "      <td>470</td>\n",
              "      <td>420</td>\n",
              "      <td>332</td>\n",
              "      <td>A</td>\n",
              "      <td>E</td>\n",
              "      <td>Tor.</td>\n",
              "      <td>1B</td>\n",
              "      <td>1314</td>\n",
              "      <td>131</td>\n",
              "      <td>12</td>\n",
              "      <td>960</td>\n",
              "      <td>A</td>\n",
              "      <td>Tor.</td>\n",
              "    </tr>\n",
              "    <tr>\n",
              "      <th>321</th>\n",
              "      <td>Willie_Wilson</td>\n",
              "      <td>631</td>\n",
              "      <td>170</td>\n",
              "      <td>9</td>\n",
              "      <td>77</td>\n",
              "      <td>44</td>\n",
              "      <td>31</td>\n",
              "      <td>11</td>\n",
              "      <td>4908</td>\n",
              "      <td>1457</td>\n",
              "      <td>30</td>\n",
              "      <td>775</td>\n",
              "      <td>357</td>\n",
              "      <td>249</td>\n",
              "      <td>A</td>\n",
              "      <td>W</td>\n",
              "      <td>K.C.</td>\n",
              "      <td>CF</td>\n",
              "      <td>408</td>\n",
              "      <td>4</td>\n",
              "      <td>3</td>\n",
              "      <td>1000</td>\n",
              "      <td>A</td>\n",
              "      <td>K.C.</td>\n",
              "    </tr>\n",
              "  </tbody>\n",
              "</table>\n",
              "<p>322 rows × 24 columns</p>\n",
              "</div>"
            ],
            "text/plain": [
              "         hitters_name  ...  players_team_at_the_beginning_of_1987\n",
              "0       Andy_Allanson  ...                                   Cle.\n",
              "1          Alan_Ashby  ...                                   Hou.\n",
              "2         Alvin_Davis  ...                                   Sea.\n",
              "3        Andre_Dawson  ...                                   Chi.\n",
              "4    Andres_Galarraga  ...                                   Mon.\n",
              "..                ...  ...                                    ...\n",
              "317      Willie_McGee  ...                                  St.L.\n",
              "318   Willie_Randolph  ...                                   N.Y.\n",
              "319    Wayne_Tolleson  ...                                   N.Y.\n",
              "320     Willie_Upshaw  ...                                   Tor.\n",
              "321     Willie_Wilson  ...                                   K.C.\n",
              "\n",
              "[322 rows x 24 columns]"
            ]
          },
          "metadata": {
            "tags": []
          },
          "execution_count": 4
        }
      ]
    },
    {
      "cell_type": "markdown",
      "metadata": {
        "id": "4DgSwVQu5Zf-"
      },
      "source": [
        " \n",
        "\n",
        "---\n",
        "\n",
        "\n",
        " # Pré-traitement et sélection des données à analyser\n",
        "\n",
        "\n",
        "---\n",
        "\n"
      ]
    },
    {
      "cell_type": "markdown",
      "metadata": {
        "id": "EFefTG-6lIaV"
      },
      "source": [
        "\n",
        "\n",
        "---\n",
        "\n",
        "\n",
        "Remarque sur les valeurs non-définis dans data:\n",
        "\n",
        "\n",
        "> **Les valeurs NAN sont des '?' dans data**. Ainsi, la présence d'un '?' dans un des éléments de la colonne impliquera que le type de cette colonne ne sera pas **int64**\n",
        "\n",
        "\n",
        "> Supprimmer les colonnes à valeurs non-numériques (data.column[c].dtype!=int64), supprimera aussi les colonnes contenant des valeurs NAN.\n",
        "\n",
        "\n",
        "\n",
        "---\n"
      ]
    },
    {
      "cell_type": "code",
      "metadata": {
        "id": "shniPQtfYaw_"
      },
      "source": [
        "\"\"\"\n",
        "On supprime toutes les colonnes à valeurs non-numériques.\n",
        "On gardera juste la première colonne qui correspond aux noms des joueurs.\n",
        "Cela nous permettra de travailler avec des données numériques.\n",
        "\"\"\"\n",
        "# je récupère le nom de toutes les colonnes sauf la première car je veux garder le nom des joueurs\n",
        "_ , *columns_without_first_one = data.columns \n",
        "\n",
        "for c in columns_without_first_one: #on parcourt les colonnes de data (sauf la première)\n",
        "  if (data[c].dtype != \"int64\") : #si la colonne data[c] n'est pas de type 'int64'\n",
        "    del data[c] #on la supprime de data"
      ],
      "execution_count": null,
      "outputs": []
    },
    {
      "cell_type": "code",
      "metadata": {
        "id": "YTir6mxquNiw"
      },
      "source": [
        "\"\"\"\n",
        "Sélection des données à analyser:\n",
        "Ici on choisit nos deux colonnes à analyser que nous allons classifier\n",
        "\"\"\"\n",
        "# on séléctionne nos deux colonnes par les labels des colonnes\n",
        "col1 , col2 = \"number_of_years_in_the_major_leagues\" , \"number_of_home_runs_during_his_career\"\n",
        "\n",
        "#on vérifie qu'on a pas pris la première colonne\n",
        "if (col1==data.columns[0] or col2==data.columns[0]):\n",
        "  print(\"!!! Attention vous avez choisi la première colonne de data (non-numérique) !!!\")\n",
        "\n",
        "#on vérifie que les noms de nos colonnes sont correctes\n",
        "if col1 not in data.columns or col2 not in data.columns:\n",
        "  print(\"!!! Attention vous choisissez des colonnes qui n'existe pas dans data !!!\")\n",
        "  \n",
        "#on stocke les deux colonnes de données dans X qui sera une dataframe panda\n",
        "X=data.loc[ : , [ col1 , col2 ] ]"
      ],
      "execution_count": null,
      "outputs": []
    },
    {
      "cell_type": "code",
      "metadata": {
        "id": "MgyzF7oi2c3-"
      },
      "source": [
        "\"\"\"\n",
        "On réduit ici le nombre de données (lignes) de X\n",
        "\"\"\"\n",
        "\n",
        "#ici on réduit via le nombre d'années (première colonne)\n",
        "#val contient le masque booléen \n",
        "#val = X.iloc[:,0]<13\n",
        "\n",
        "#ici on réduit via le nombre de home runs (deuxième colonne)\n",
        "#val contient le masque booléen \n",
        "val = X.iloc[:,1]<75\n",
        "\n",
        "# les éléments indexés par des falses deviennent NaN\n",
        "X=X.mask(val)\n",
        "\n",
        "# ainsi, on enléve les lignes (axis=0) qui contiennent des NAN\n",
        "X=X.dropna()"
      ],
      "execution_count": null,
      "outputs": []
    },
    {
      "cell_type": "markdown",
      "metadata": {
        "id": "4VA2TelF_dH6"
      },
      "source": [
        "\n",
        "\n",
        "---\n",
        "\n",
        "\n",
        "# Unsupervised classification with K-means \n",
        "\n",
        "---\n",
        "\n"
      ]
    },
    {
      "cell_type": "code",
      "metadata": {
        "colab": {
          "base_uri": "https://localhost:8080/",
          "height": 372
        },
        "id": "cnd9_qUkvO3t",
        "outputId": "a9bd9b22-f624-47d8-dc7d-0c3ee9e3ef5b"
      },
      "source": [
        "def K_means(donnee,k):\n",
        "  \"\"\"\n",
        "  donnee : type panda.dataframe; doit avoir deux colonnes \n",
        "  k : entier strict. positive qui indique le nombre de cluster\n",
        "\n",
        "  Cette fonction implémente la méthode de classification de K-means.\n",
        "  On appelle le modèle K-means implémenté dans scikit-learn.\n",
        "\n",
        "  La méthode d'initialisation concernant les centroides, est par défaut : 'k-means++'\n",
        "  cette méthode consiste à placer les centroids sur des points du dataset éloignés les uns des autres\n",
        "  Cela facilite la convergence\n",
        "\n",
        "  Le paramètre n_init est le nombre de fois que l'algorithme va tourner avec\n",
        "  des différentes centroids initiaux. Le résultat final sera celui associé à l'inertia la plus petite.\n",
        "  \n",
        "  Le paramètre max_iter est le nombre maximum de l'algorithme k-mean pour une seule exécution\n",
        "  \"\"\"\n",
        "  #modele.inertia_ est la fonction-coût : pour chaque clusters, somme des distances entre les points et le centroide\n",
        "\n",
        "  #on crée le modèle\n",
        "  modele = KMeans(n_clusters=k, n_init=10 , max_iter=300 , init='k-means++')\n",
        "\n",
        "  #on entraine notre modèle sur les données \n",
        "  modele.fit(donnee)\n",
        "\n",
        "  #on dessine le nuage de points de nos données avec les clusters crée par le modèle\n",
        "  plt.scatter( donnee.iloc[ : , 0 ] , donnee.iloc[ : , 1 ],c=modele.labels_)\n",
        "\n",
        "  #position des centroides\n",
        "  centroides=modele.cluster_centers_\n",
        "\n",
        "  #on dessine les centroides\n",
        "  plt.scatter( centroides[ : , 0 ] , centroides[ : , 1 ] , c='r' )\n",
        "  plt.xlabel(donnee.columns[0])\n",
        "  plt.ylabel(donnee.columns[1])\n",
        "\n",
        "  # on retourne le vecteur correspondant aux labels de chaque point\n",
        "  # c'est-à-dire à quel cluster chaque point appartient\n",
        "  return modele.labels_\n",
        "\n",
        "K_means(X,3)"
      ],
      "execution_count": null,
      "outputs": [
        {
          "output_type": "execute_result",
          "data": {
            "text/plain": [
              "array([0, 0, 1, 1, 1, 1, 1, 0, 0, 1, 0, 0, 1, 0, 1, 1, 1, 1, 0, 1, 0, 2,\n",
              "       0, 1, 2, 1, 1, 0, 1, 0, 0, 1, 0, 0, 1, 0, 1, 1, 0, 0, 2, 1, 0, 0,\n",
              "       2, 0, 1, 1, 0, 1, 0, 1, 1, 1, 1, 1, 1, 2, 1, 1, 1, 1, 1, 1, 1, 1,\n",
              "       1, 1, 1, 0, 0, 1, 1, 1, 1, 1, 1, 1, 0, 1, 1, 2, 1, 1, 1, 1, 0, 1,\n",
              "       0, 1, 2, 0, 1, 1], dtype=int32)"
            ]
          },
          "metadata": {
            "tags": []
          },
          "execution_count": 8
        },
        {
          "output_type": "display_data",
          "data": {
            "image/png": "[encoded data removed]",
            "text/plain": [
              "<Figure size 432x288 with 1 Axes>"
            ]
          },
          "metadata": {
            "tags": [],
            "needs_background": "light"
          }
        }
      ]
    },
    {
      "cell_type": "markdown",
      "metadata": {
        "id": "eXTfX4uZoRdH"
      },
      "source": [
        "**Interprétation:** on observe ici en réalisant un clustering K-Means des données du nombre de home_runs en carrière par rapport à la durée de sa carrière pour chacun des jours les regroupements suivants:\n",
        "*(les couleurs peuvent changer a chaque exécution)*\n",
        "\n",
        "\n",
        "\n",
        "*   en violet en bas on a les joueurs qui ont réussi un nombre faible de homeruns par rapport au temps passé en ligue majeures\n",
        "*   en jaune ceux avec un nombre moyen de home-runs\n",
        "*   en bleu les \"home-runs specialists\" qui en ont réussi un nombre supérieur à la moyenne au cours de leurs carrières\n",
        "\n",
        "\n",
        "---\n",
        "\n"
      ]
    },
    {
      "cell_type": "code",
      "metadata": {
        "colab": {
          "base_uri": "https://localhost:8080/",
          "height": 297
        },
        "id": "-WtZidrI3aMn",
        "outputId": "83605ed4-3587-47bb-af5d-965935e82b3d"
      },
      "source": [
        "\"\"\"\n",
        "Comment choisir notre K pour l'algorithme K-mean - Méthode du coude:\n",
        "Détecter une zone de coude dans la minimisation du coût (inertia_)\n",
        "On trace l'évolution du cout de notre modèle (inertia) en fonction du nombre de clusters \n",
        "La zone de coude nous indique le nb de clusters optimal,\n",
        "Dans l'optique de réduire au maximum le cout de notre modéle tout en conservant au nombre raisonnable de cluster\n",
        "Exemple pour avoir un cout égale à 0 on choisit autant de cluster que de point\n",
        "\"\"\"\n",
        "# vecteur qui stockera les inertia (valeur de la fonction-coût)\n",
        "cout = []\n",
        "k_range = range(1,10)\n",
        "for k in k_range:\n",
        "  test = KMeans(n_clusters=k).fit(X)\n",
        "  cout.append(test.inertia_)\n",
        "\n",
        "plt.plot(k_range,cout)\n",
        "plt.xlabel(\"nombre de clusters\")\n",
        "plt.ylabel(\"cout de notre modèle (inertia)\")\n"
      ],
      "execution_count": null,
      "outputs": [
        {
          "output_type": "execute_result",
          "data": {
            "text/plain": [
              "Text(0, 0.5, 'cout de notre modèle (inertia)')"
            ]
          },
          "metadata": {
            "tags": []
          },
          "execution_count": 9
        },
        {
          "output_type": "display_data",
          "data": {
            "image/png": "[encoded data removed]",
            "text/plain": [
              "<Figure size 432x288 with 1 Axes>"
            ]
          },
          "metadata": {
            "tags": [],
            "needs_background": "light"
          }
        }
      ]
    },
    {
      "cell_type": "markdown",
      "metadata": {
        "id": "ItwBVb-l7uLB"
      },
      "source": [
        "interprétation de la zone de coude : les k optimaux sont 2,3 4"
      ]
    },
    {
      "cell_type": "markdown",
      "metadata": {
        "id": "3FqVCZ9Yfuzh"
      },
      "source": [
        "\n",
        "\n",
        "---\n",
        "\n",
        "\n",
        "# Dataset to connectivity graph\n",
        "\n",
        "\n",
        "---\n",
        "\n"
      ]
    },
    {
      "cell_type": "markdown",
      "metadata": {
        "id": "aIlojlFKJINX"
      },
      "source": [
        "**Calcul des matrices de distances et de similarités par rapport aux points de notre dataset X**"
      ]
    },
    {
      "cell_type": "code",
      "metadata": {
        "colab": {
          "base_uri": "https://localhost:8080/"
        },
        "id": "U4W1NbNjYdmx",
        "outputId": "2f989cd0-692d-4179-bb41-90d2a47a4067"
      },
      "source": [
        "\"\"\"\n",
        "Tout d'abord, on génére la matrice des distances (euclidiennes) de nos points.\n",
        "Ces points étant les lignes de X et donc de dimension deux.\n",
        "La matrice obtenue sera symétrique (par symétrie de la distance) et de diagonale nulle (distance d'un point avec lui-même est 0).\n",
        "L'élément i,j sera par exemple la distance entre le point i et j \n",
        "\"\"\"\n",
        "def distance(x1,y1,x2,y2):\n",
        "  return math.sqrt( (y1-y2)**2 + (x1-x2)**2 )\n",
        "\n",
        "#nombre de sommets = nombre de lignes de X \n",
        "nb_point=X.shape[0]\n",
        "\n",
        "# on crée la matrice carrée nulle de dimension : nb_point\n",
        "matrice_distances=np.zeros((nb_point,nb_point))\n",
        "\n",
        "#pour chaque point\n",
        "for ligne in range(0,nb_point): \n",
        "  #point actuel : X.iloc[ligne] de coordonnées : (X.iloc[ligne][0] , X.iloc[ligne][1])\n",
        "  for point in range(ligne+1, nb_point): \n",
        "    #pour les points strictement en dessous dans X, on rajoute leur distance au bons endroits dans la matrice\n",
        "    #d=np.linalg.norm((X.iloc[ligne]-X.iloc[point]))\n",
        "    d=distance( X.iloc[ligne][0] , X.iloc[ligne][1] , X.iloc[point][0] , X.iloc[point][1] )\n",
        "    matrice_distances[ligne][point]=d \n",
        "    matrice_distances[point][ligne]=d\n",
        "\n",
        "#on vérifie que la matrice obtenue est bien cohérente\n",
        "print(matrice_distances-matrice_distances.T) #cense être la matrice nulle"
      ],
      "execution_count": null,
      "outputs": [
        {
          "output_type": "stream",
          "text": [
            "[[0. 0. 0. ... 0. 0. 0.]\n",
            " [0. 0. 0. ... 0. 0. 0.]\n",
            " [0. 0. 0. ... 0. 0. 0.]\n",
            " ...\n",
            " [0. 0. 0. ... 0. 0. 0.]\n",
            " [0. 0. 0. ... 0. 0. 0.]\n",
            " [0. 0. 0. ... 0. 0. 0.]]\n"
          ],
          "name": "stdout"
        }
      ]
    },
    {
      "cell_type": "code",
      "metadata": {
        "id": "YphzlM0TE4kA"
      },
      "source": [
        "\"\"\"\n",
        "Ensuite, à partir de la matrice des distances, on génére la matrice de similarités\n",
        "La matrice obtenue sera symétrique (par symétrie de la distance) et de diagonale nulle.\n",
        "L'élément i,j sera par exemple le poids sur l'arête reliant le point i et j.\n",
        "Cependant, il faut qu'il y ait des zéros pour des points non-connectés.\n",
        "Or, la formule de la similarité entre deux points non-connectés vaut 1 (exp(0)=1).\n",
        "\"\"\"\n",
        "\n",
        "#on choisit une valeur pour sigma\n",
        "sigma=100\n",
        "#Transition de la matrice des distances vers la matrice de similarité\n",
        "#pour chaque élément, si il est égale à 0, on garde l'élément qu'il y avait dans matrice_distances, sinon on calcule cet élément via la formule de similarité\n",
        "matrice_similarites=np.where(matrice_distances==0,matrice_distances,np.exp(-1*(np.square(matrice_distances)/(2*(sigma**2)))))\n",
        "\n",
        "#on vérifie que la matrice est bien cohérente et juste\n",
        "# print(matrice_similarites-matrice_similarites.T)\n",
        "# print(np.array(np.where(matrice_similarites==0))-np.array(np.where(matrice_distances==0)))\n",
        "# matrice_similarites"
      ],
      "execution_count": null,
      "outputs": []
    },
    {
      "cell_type": "markdown",
      "metadata": {
        "id": "2RuWaFSXK0wQ"
      },
      "source": [
        "**Application du SKNG : on garde les k-voisins d'un point. On peut travailler avec les distances comme les similarités; les indices des k-voisins seront les mêmes. Ainsi, pour chaque point, on garde les indices des k points les plus proches/similaires (via la fonction argsort)**"
      ]
    },
    {
      "cell_type": "code",
      "metadata": {
        "id": "k86VTiQcfOX2",
        "colab": {
          "base_uri": "https://localhost:8080/"
        },
        "outputId": "6321362f-3da3-4b1b-ea0f-49883dc12ae4"
      },
      "source": [
        "\"\"\"\n",
        "Symmetric k-nearest neighbor graph.\n",
        "Pour chaque ligne (donc pour chaque point), on va la trier avec np.argsort et garder les k premiers indices retournée par cette dernière.\n",
        "Attention, la premier indice retourné par arg.sort correspond à celui de la diagonale puisqu'il s'agit d'une distance/similarité égale à zéro.\n",
        "Une fois les k-indices obtenus, on saura quels termes garder sur la ligne (ces termes seront les distances/similarités des k-voisins) et mettre tous les autres termes à 0.\n",
        "\"\"\"\n",
        "#on fixe le nombre de voisins qu'on veut garder pour chaque point\n",
        "k=6\n",
        "\n",
        "# nombre de points\n",
        "nb_ligne=matrice_distances.shape[0]\n",
        "\n",
        "# on crée la matrice carrée nulle de dimension : nb_point\n",
        "matrice_k_voisins=np.zeros((nb_ligne,nb_ligne))\n",
        "\n",
        "# pour chaque point\n",
        "for ligne in range(0,nb_ligne):  \n",
        "  # on récupère les indices de ses k-voisins (on ne prend pas le premier indice)\n",
        "  indices_k_voisins=np.argsort(matrice_distances[ligne])[1:k+1]\n",
        "  # puis, sur la ligne on aura que des 0 sauf pour ces k indices où on aura les distances \n",
        "  matrice_k_voisins[ligne][indices_k_voisins]=matrice_distances[ligne][indices_k_voisins]\n",
        "\n",
        "#on vérifie que la matrice obtenue est satisfaisante\n",
        "for line in range(matrice_k_voisins.shape[0]):\n",
        "  print(np.where(matrice_k_voisins[line]!=0))\n",
        "#on voit que pour chaque ligne, seulement k éléments sont non-nuls.\n",
        "#Il y a des lignes pour lesquels on a moins de k éléments non-nuls qui correspond à des points confondus entre eux (joueurs ayant les mêmes stats)."
      ],
      "execution_count": null,
      "outputs": [
        {
          "output_type": "stream",
          "text": [
            "(array([ 7,  8, 10, 11, 20, 43]),)\n",
            "(array([27, 29, 35, 42, 45, 91]),)\n",
            "(array([34, 46, 63, 66, 71, 73]),)\n",
            "(array([ 5,  6, 15, 30, 48, 50]),)\n",
            "(array([17, 53, 55, 74, 80, 93]),)\n",
            "(array([ 6, 15, 25, 51, 77, 83]),)\n",
            "(array([ 3,  5, 15, 25, 77, 83]),)\n",
            "(array([ 0,  8, 10, 11, 20, 43]),)\n",
            "(array([ 0,  7, 20, 38, 69, 70]),)\n",
            "(array([25, 28, 47, 51, 83, 84]),)\n",
            "(array([ 0,  7, 35, 43, 91]),)\n",
            "(array([ 0,  7, 35, 43, 91]),)\n",
            "(array([23, 54, 63, 64, 75, 76]),)\n",
            "(array([22, 27, 33, 39, 45, 86]),)\n",
            "(array([41, 62, 65, 72, 82, 92]),)\n",
            "(array([ 3,  5,  6, 25, 83, 84]),)\n",
            "(array([36, 47, 49, 59, 61]),)\n",
            "(array([ 4, 19, 53, 55, 66, 74]),)\n",
            "(array([13, 21, 22, 32, 40, 78]),)\n",
            "(array([ 4, 17, 53, 55, 66, 74]),)\n",
            "(array([ 0,  7,  8, 43, 69, 70]),)\n",
            "(array([18, 40, 44, 57, 78, 90]),)\n",
            "(array([13, 32, 33, 39, 78, 86]),)\n",
            "(array([12, 54, 63, 64, 75, 76]),)\n",
            "(array([21, 40, 44, 57, 81, 90]),)\n",
            "(array([ 5,  9, 51, 77, 83, 84]),)\n",
            "(array([37, 46, 52, 71, 73, 93]),)\n",
            "(array([ 1, 33, 39, 42, 45, 86]),)\n",
            "(array([ 9, 25, 47, 51, 83, 84]),)\n",
            "(array([ 1, 10, 11, 35, 42, 91]),)\n",
            "(array([ 3,  6, 15, 48, 50, 88]),)\n",
            "(array([14, 41, 68, 80, 82, 92]),)\n",
            "(array([13, 18, 22, 33, 39, 78]),)\n",
            "(array([13, 22, 27, 39, 45, 86]),)\n",
            "(array([ 2, 54, 58, 63, 64, 67]),)\n",
            "(array([ 1, 10, 11, 29, 43, 91]),)\n",
            "(array([16, 49, 56, 59, 61, 87]),)\n",
            "(array([ 2, 26, 46, 52, 71, 73]),)\n",
            "(array([ 8, 20, 50, 69, 70, 88]),)\n",
            "(array([13, 27, 33, 42, 45, 86]),)\n",
            "(array([18, 21, 44, 57, 78, 90]),)\n",
            "(array([14, 31, 68, 80, 85, 92]),)\n",
            "(array([ 1, 27, 29, 39, 45, 86]),)\n",
            "(array([ 0,  7, 10, 11, 20, 35]),)\n",
            "(array([18, 21, 24, 40, 57, 90]),)\n",
            "(array([13, 27, 33, 39, 42, 86]),)\n",
            "(array([ 2, 26, 37, 66, 71, 73]),)\n",
            "(array([ 9, 16, 28, 36, 49, 87]),)\n",
            "(array([ 3, 30, 38, 50, 70, 88]),)\n",
            "(array([16, 36, 56, 59, 61, 87]),)\n",
            "(array([ 3, 30, 38, 48, 70, 88]),)\n",
            "(array([ 5,  9, 25, 77, 83, 84]),)\n",
            "(array([26, 37, 55, 68, 85, 93]),)\n",
            "(array([ 4, 17, 19, 55, 66, 71]),)\n",
            "(array([23, 34, 58, 63, 64, 75]),)\n",
            "(array([ 4, 52, 66, 71, 85, 93]),)\n",
            "(array([36, 49, 59, 60, 61, 87]),)\n",
            "(array([18, 21, 40, 44, 78, 90]),)\n",
            "(array([34, 54, 63, 64, 67, 89]),)\n",
            "(array([16, 36, 49, 56, 61, 87]),)\n",
            "(array([56, 59, 61, 62, 65, 72]),)\n",
            "(array([16, 36, 49, 56, 59, 60]),)\n",
            "(array([14, 60, 65, 72, 82, 92]),)\n",
            "(array([ 2, 34, 54, 58, 64, 67]),)\n",
            "(array([23, 34, 54, 58, 63, 75]),)\n",
            "(array([14, 31, 62, 72, 82, 92]),)\n",
            "(array([ 2, 46, 53, 55, 71, 93]),)\n",
            "(array([34, 54, 58, 63, 64, 89]),)\n",
            "(array([ 4, 41, 52, 80, 85, 93]),)\n",
            "(array([ 0,  7,  8, 20, 38, 70]),)\n",
            "(array([ 0,  7,  8, 20, 38, 69]),)\n",
            "(array([ 2, 46, 55, 66, 73, 93]),)\n",
            "(array([14, 60, 62, 65, 82, 92]),)\n",
            "(array([ 2, 26, 34, 37, 46, 71]),)\n",
            "(array([ 4, 17, 19, 53, 68, 80]),)\n",
            "(array([12, 23, 54, 58, 64, 76]),)\n",
            "(array([12, 23, 54, 63, 64, 75]),)\n",
            "(array([ 5,  6, 25, 51, 83, 84]),)\n",
            "(array([13, 18, 21, 22, 32, 40]),)\n",
            "(array([54, 58, 64, 67, 75, 89]),)\n",
            "(array([ 4, 41, 68, 74, 85, 93]),)\n",
            "(array([21, 24, 40, 44, 57, 90]),)\n",
            "(array([14, 31, 41, 62, 65, 92]),)\n",
            "(array([ 5,  9, 25, 28, 51, 84]),)\n",
            "(array([ 5,  9, 25, 28, 51, 83]),)\n",
            "(array([ 4, 52, 55, 68, 80, 93]),)\n",
            "(array([13, 27, 33, 39, 42, 45]),)\n",
            "(array([36, 47, 49, 59, 61]),)\n",
            "(array([ 3, 30, 38, 48, 50, 70]),)\n",
            "(array([34, 54, 58, 63, 67, 79]),)\n",
            "(array([18, 21, 24, 40, 44, 57]),)\n",
            "(array([ 1, 10, 11, 29, 35, 43]),)\n",
            "(array([14, 31, 41, 65, 72, 82]),)\n",
            "(array([26, 52, 55, 66, 71, 85]),)\n"
          ],
          "name": "stdout"
        }
      ]
    },
    {
      "cell_type": "markdown",
      "metadata": {
        "id": "3loyxyZoR3sl"
      },
      "source": [
        "**Application du MKNG : parmi les k-voisins d'un point, on ne garde que les connexions réciproques entre lui et ces k-voisins.**"
      ]
    },
    {
      "cell_type": "code",
      "metadata": {
        "id": "hvqfvd7vNhnJ",
        "colab": {
          "base_uri": "https://localhost:8080/"
        },
        "outputId": "de4f260a-924a-4c72-f88a-16b83053bb89"
      },
      "source": [
        "\"\"\"\n",
        "A partir de la matrice d'adjacence relative à la méthode SKNN, \n",
        "on calcule la matrice d'adjacence relative à la méthode MKNN.\n",
        "\n",
        "On considère un graphe non-dirigé (undirected).\n",
        "Ainsi, à partir de matrice_k_voisins, on garde seulement les termes qui sont associées à une connexion à double sens entre deux points.\n",
        "\"\"\"\n",
        "#on multiplie membre à membre, la matrice_k_voisins fois sa transposée, pour enlever les connexions à sens unique\n",
        "matrice_mk_voisins=np.multiply(matrice_k_voisins,np.transpose(matrice_k_voisins))\n",
        "#On remet les bonnes valeurs aux endroits des connexions mutuelles\n",
        "matrice_mk_voisins=np.where(matrice_mk_voisins==0,matrice_mk_voisins,matrice_k_voisins)\n",
        "print(sum(matrice_mk_voisins-matrice_k_voisins)) #vérification que les matrices sont bien différentes"
      ],
      "execution_count": null,
      "outputs": [
        {
          "output_type": "stream",
          "text": [
            "[ -28.17115076    0.           -5.38516481  -18.11077028  -16.38516481\n",
            "  -25.42471004  -15.13274595  -28.45266377    0.            0.\n",
            "  -12.16552506  -12.16552506    0.          -89.20289808   -7.07106781\n",
            "  -15.5241747     0.            0.         -169.56736187    0.\n",
            "  -12.         -296.0310003   -24.08318916    0.            0.\n",
            "  -35.22756528    0.          -16.15549442    0.            0.\n",
            "    0.           -8.54400375    0.          -30.2654919   -13.27262736\n",
            "    0.          -11.40175425    0.          -19.41648784  -54.11445395\n",
            " -294.03127394   -8.06225775    0.          -11.70469991 -164.\n",
            "  -15.            0.            0.            0.          -12.04159458\n",
            "    0.          -11.3137085     0.           -7.07106781  -35.12216945\n",
            "  -18.69853564    0.         -288.17376337  -12.72792206   -7.81024968\n",
            "    0.           -8.60232527    0.          -33.80784592  -32.03086851\n",
            "   -8.60232527  -13.46710393   -6.70820393  -13.98831382    0.\n",
            "  -52.17092237  -16.50214375    0.            0.            0.\n",
            "   -9.05538514    0.            0.          -39.11521443    0.\n",
            "   -6.40312424    0.           -8.24621125  -35.18033989  -26.07680962\n",
            "   -7.          -20.22374842  -10.29563014    0.            0.\n",
            " -169.02662512    0.           -7.07106781  -16.09901951]\n"
          ],
          "name": "stdout"
        }
      ]
    },
    {
      "cell_type": "code",
      "metadata": {
        "colab": {
          "base_uri": "https://localhost:8080/",
          "height": 353
        },
        "id": "gNAagfbyQYWK",
        "outputId": "062f1039-d3e8-46d4-b2af-720ee0093ba0"
      },
      "source": [
        "\"\"\"\n",
        "Enfin, on peut représenter notre dataset X en un graphe, à l'aide de sa représentation matricielle implentée ci-dessus.\n",
        "On utilise la librairie networkx\n",
        "\"\"\"\n",
        "#we create a Graph object from adjency matrix of MKNN\n",
        "#G = nx.from_numpy_matrix(matrice_k_voisins)\n",
        "G = nx.from_numpy_matrix(matrice_mk_voisins)\n",
        "#mapping= { i:f'$x_{i+1}$' for i in range(X.shape[0]) } #les étiquettes des sommets\n",
        "#G = nx.relabel_nodes(G,mapping)\n",
        "nx.draw(G)\n",
        "\n",
        "# fig, ax = plt.subplots(figsize=(10, 5))\n",
        "plt.title('Connectivity graph')\n",
        "\n",
        "# nx.draw(G, ax=ax)\n",
        "# # turn the axis on\n",
        "# ax.set_axis_on()\n",
        "# ax.tick_params(left=True, bottom=True, labelleft=True, labelbottom=True)"
      ],
      "execution_count": null,
      "outputs": [
        {
          "output_type": "execute_result",
          "data": {
            "text/plain": [
              "Text(0.5, 1.0, 'Connectivity graph')"
            ]
          },
          "metadata": {
            "tags": []
          },
          "execution_count": 14
        },
        {
          "output_type": "display_data",
          "data": {
            "image/png": "[encoded data removed]",
            "text/plain": [
              "<Figure size 432x288 with 1 Axes>"
            ]
          },
          "metadata": {
            "tags": []
          }
        }
      ]
    },
    {
      "cell_type": "code",
      "metadata": {
        "colab": {
          "base_uri": "https://localhost:8080/",
          "height": 280
        },
        "id": "MAqeVqyJ8KZN",
        "outputId": "7acccca0-59d7-4993-bec5-27ce5a7a514b"
      },
      "source": [
        "X.plot.scatter(x=\"number_of_years_in_the_major_leagues\",y=\"number_of_home_runs_during_his_career\")\n",
        "for ligne in range(0,nb_point): \n",
        "  for point in range(ligne+1, nb_point): \n",
        "    if matrice_mk_voisins[ligne][point] != 0:\n",
        "      x=[X.iloc[ligne,0],X.iloc[point,0]]\n",
        "      y=[X.iloc[ligne,1],X.iloc[point,1]]\n",
        "      plt.plot(x,y,color='red')\n",
        "    elif matrice_mk_voisins[ligne][point] == 0 and matrice_k_voisins[ligne][point] != 0:\n",
        "      x=[X.iloc[ligne,0],X.iloc[point,0]]\n",
        "      y=[X.iloc[ligne,1],X.iloc[point,1]]\n",
        "      plt.plot(x,y,color='blue')  \n",
        "    #d=np.linalg.norm((X.iloc[ligne]-X.iloc[point]))\n"
      ],
      "execution_count": null,
      "outputs": [
        {
          "output_type": "display_data",
          "data": {
            "image/png": "[encoded data removed]",
            "text/plain": [
              "<Figure size 432x288 with 1 Axes>"
            ]
          },
          "metadata": {
            "tags": [],
            "needs_background": "light"
          }
        }
      ]
    },
    {
      "cell_type": "markdown",
      "metadata": {
        "id": "rBvnHwCH3h71"
      },
      "source": [
        "  # Unsupervised classification with Spectral Clustering"
      ]
    },
    {
      "cell_type": "code",
      "metadata": {
        "colab": {
          "base_uri": "https://localhost:8080/",
          "height": 298
        },
        "id": "9HHdLdgiElIp",
        "outputId": "dcafde2e-c05a-4c55-c10d-37511712cb31"
      },
      "source": [
        "#On génére notre matrice d'adjacency W\n",
        "si=100\n",
        "W=np.where(matrice_mk_voisins==0,matrice_mk_voisins,np.exp(-1*(np.square(matrice_mk_voisins)/(2*(si**2))))) #ici on passe des distances aux similarités\n",
        "\n",
        "#On génére notre matrice des degrés de chaque sommet\n",
        "d=np.sum(W,axis=0)\n",
        "D=np.diag(d)\n",
        "\n",
        "#On génére la mtarice laplacienne\n",
        "L=D-W\n",
        "\n",
        "#On normalise la laplacienne\n",
        "Dd=np.sqrt(np.linalg.inv(D))\n",
        "Ls=np.dot(np.dot(Dd,L),Dd)\n",
        "\n",
        "#Decomposition en valeurs propres \n",
        "l,v=np.linalg.eig(Ls)\n",
        "\n",
        "#trie des valeur propre et des vecteurs propres\n",
        "indice=np.argsort(l)\n",
        "valeur_p=l[indice]\n",
        "vecteur=v[:,indice]\n",
        "\n",
        "#on effectue un k-means sur l'espace généré par les k premiers vecteurs propres \n",
        "k=3\n",
        "la=valeur_p[0:k]\n",
        "vp=vecteur[:,0:k]\n",
        "\n",
        "#on crée le modèle\n",
        "modele = KMeans(n_clusters=k, n_init=10 , max_iter=300 , init='k-means++').fit(vp)\n",
        "\n",
        "plt.scatter(X.iloc[:,0],X.iloc[:,1],c=modele.labels_)\n",
        "plt.xlabel(X.columns[0])\n",
        "plt.ylabel(X.columns[1])"
      ],
      "execution_count": null,
      "outputs": [
        {
          "output_type": "execute_result",
          "data": {
            "text/plain": [
              "Text(0, 0.5, 'number_of_home_runs_during_his_career')"
            ]
          },
          "metadata": {
            "tags": []
          },
          "execution_count": 16
        },
        {
          "output_type": "display_data",
          "data": {
            "image/png": "[encoded data removed]",
            "text/plain": [
              "<Figure size 432x288 with 1 Axes>"
            ]
          },
          "metadata": {
            "tags": [],
            "needs_background": "light"
          }
        }
      ]
    },
    {
      "cell_type": "code",
      "metadata": {
        "id": "bTMO9FNSpYc-",
        "colab": {
          "base_uri": "https://localhost:8080/",
          "height": 283
        },
        "outputId": "86c1e9d4-6d26-4f98-e39b-571cc5b3af6b"
      },
      "source": [
        "\"\"\"\n",
        "Méthode eigengap : On remarque le saut vertical le plus grand (correspondant à l'écart le plus grand entre deux valeurs propres consécutives)\n",
        "\"\"\"\n",
        "plt.scatter(np.arange(15),valeur_p[0:15])"
      ],
      "execution_count": null,
      "outputs": [
        {
          "output_type": "execute_result",
          "data": {
            "text/plain": [
              "<matplotlib.collections.PathCollection at 0x7fc8c4d74908>"
            ]
          },
          "metadata": {
            "tags": []
          },
          "execution_count": 17
        },
        {
          "output_type": "display_data",
          "data": {
            "image/png": "[encoded data removed]",
            "text/plain": [
              "<Figure size 432x288 with 1 Axes>"
            ]
          },
          "metadata": {
            "tags": [],
            "needs_background": "light"
          }
        }
      ]
    }
  ]
}